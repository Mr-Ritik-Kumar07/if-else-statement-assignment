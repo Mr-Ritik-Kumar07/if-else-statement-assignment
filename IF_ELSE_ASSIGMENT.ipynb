{
 "cells": [
  {
   "cell_type": "markdown",
   "id": "211a5dae-4e18-4be1-b33e-16a4a987d5e9",
   "metadata": {},
   "source": [
    "Q1. Write a program to calculate the electricity bill\n",
    "\n",
    "using only if statement? (accept number of unit from user)\n",
    "\n",
    "according to the following criteria:\n",
    "\n",
    "Unit\n",
    "\n",
    "Price\n",
    "\n",
    "First 100 units\n",
    "\n",
    "no charge\n",
    "\n",
    "Next 100 units\n",
    "\n",
    "Rs 5 per unit\n",
    "\n",
    "After 200 units\n",
    "\n",
    "Rs 10 per unit\n",
    "\n",
    "(For example, if input unit is 350 than total bill amount is Rs2000). Lets explain...\n",
    "\n",
    "For first 100 no charges\n",
    "\n",
    "Now you have 250 unit remaining\n",
    "\n",
    "100-200 you need to pay-100*5=500\n",
    "\n",
    "Now 200-100 you need to pay 150*10 = 1500\n",
    "\n",
    "Total 500+1500=2000"
   ]
  },
  {
   "cell_type": "code",
   "execution_count": 10,
   "id": "c848fbb4-be26-4432-81cb-1dfce093a7b8",
   "metadata": {},
   "outputs": [
    {
     "name": "stdin",
     "output_type": "stream",
     "text": [
      "Enter the number of units consumed:  150\n"
     ]
    },
    {
     "name": "stdout",
     "output_type": "stream",
     "text": [
      "Total electricity bill: ₹250\n"
     ]
    }
   ],
   "source": [
    "# Accept number of units from user\n",
    "units = int(input(\"Enter the number of units consumed: \"))\n",
    "bill = 0\n",
    "\n",
    "if units > 100:\n",
    "    if units <= 200:\n",
    "        bill = (units - 100) * 5\n",
    "    if units > 200:\n",
    "        bill = 100 * 5  \n",
    "        bill += (units - 200) * 10 \n",
    "\n",
    "print(f\"Total electricity bill: ₹{bill}\")\n"
   ]
  },
  {
   "cell_type": "markdown",
   "id": "ed10e2c6-87c1-45aa-9a01-79111959db15",
   "metadata": {},
   "source": [
    "Q2. Write a program to accept percentage from the user and display."
   ]
  },
  {
   "cell_type": "code",
   "execution_count": 14,
   "id": "b768ba7c-fc8d-4b40-9d44-de1d6518a566",
   "metadata": {},
   "outputs": [
    {
     "name": "stdin",
     "output_type": "stream",
     "text": [
      "enter the grade markes :- 52\n"
     ]
    },
    {
     "name": "stdout",
     "output_type": "stream",
     "text": [
      "your grade is D\n"
     ]
    }
   ],
   "source": [
    "grade_markes = int(input(\"enter the grade markes :-\"))\n",
    "if grade_markes>=90:\n",
    "    print(\"your grade is A \")\n",
    "if grade_markes>80 and grade_markes<=90:\n",
    "    print(\"your garde is B\")\n",
    "if grade_markes>=60 and grade_markes<=80:\n",
    "    print(\"your grade is C\")\n",
    "if grade_markes<60:\n",
    "    print(\"your grade is D\")"
   ]
  },
  {
   "cell_type": "markdown",
   "id": "83d3ad36-1a61-4ed9-9fac-fa8038efedd2",
   "metadata": {},
   "source": [
    "3.Accept the age of 4 people and display the youngest one ?"
   ]
  },
  {
   "cell_type": "code",
   "execution_count": 17,
   "id": "288b235c-c1f7-4943-ba05-aa1f7df8b8b3",
   "metadata": {},
   "outputs": [
    {
     "name": "stdin",
     "output_type": "stream",
     "text": [
      "enter your age :- 96\n",
      "enter your age :- 56\n",
      "enter your age :- 29\n",
      "enter your age :- 13\n"
     ]
    },
    {
     "name": "stdout",
     "output_type": "stream",
     "text": [
      "this man is younest man 13\n"
     ]
    }
   ],
   "source": [
    "first_man_age = int(input(\"enter frist man  age :-\"))\n",
    "second_man_age = int(input(\"enter second man  age :-\"))\n",
    "third_man_age = int(input(\"enter third man  age :-\"))\n",
    "fourth_man_age = int(input(\"enter fourth man age :-\"))\n",
    "if first_man_age<=second_man_age and first_man_age<=third_man_age and first_man_age<=fourth_man_age:\n",
    "    print(\"this man is youngest man\",first_man_age)\n",
    "if second_man_age<=first_man_age and second_man_age<=third_man_age and second_man_age<=fourth_man_age:\n",
    "    print(\"this man is youngest man\",second_man_age)\n",
    "if third_man_age<=first_man_age and third_man_age<=second_man_age and third_man_age<=fourth_man_age:\n",
    "    print(\"this man is youngest man\",third_man_age)\n",
    "if fourth_man_age<=first_man_age and fourth_man_age<=second_man_age and fourth_man_age<=third_man_age:\n",
    "    print(\"this man is younest man\",fourth_man_age)"
   ]
  },
  {
   "cell_type": "markdown",
   "id": "ad3c0885-10cf-48d1-95b4-f1be86c779f7",
   "metadata": {},
   "source": [
    "Q4. A company decided to give bonus to employee according to following criteria:\n",
    "\n",
    "Time period of Service\n",
    "\n",
    "Bonus\n",
    "More than 10 years 10%\n",
    ">=6 and <=10\n",
    "8%\n",
    "Less than 6 years\n",
    "5%\n",
    "Ask user for their salary and years of service and print the\n",
    "net bonus amount?"
   ]
  },
  {
   "cell_type": "code",
   "execution_count": 4,
   "id": "3e378b79-2f1b-44fe-8261-6de19036c466",
   "metadata": {},
   "outputs": [
    {
     "name": "stdin",
     "output_type": "stream",
     "text": [
      "enter your salary :- 500000\n",
      "enter your service year :- 5\n"
     ]
    },
    {
     "name": "stdout",
     "output_type": "stream",
     "text": [
      "Years of Service: 5 years\n",
      "Salary: ₹500000.00\n",
      "Bonus Rate: 5%\n",
      "Net Bonus Amount: ₹25000.00\n"
     ]
    }
   ],
   "source": [
    "salary = int(input(\"enter your salary :-\"))\n",
    "service_year = int(input(\"enter your service year :-\"))\n",
    "if service_year > 10:\n",
    "    bonus_rate = 0.10 \n",
    "elif 6 <= service_year <= 10:\n",
    "    bonus_rate = 0.08  \n",
    "else:\n",
    "    bonus_rate = 0.05  \n",
    "\n",
    "bonus = salary * bonus_rate\n",
    "\n",
    "print(f\"Years of Service: {service_year} years\")\n",
    "print(f\"Salary: ₹{salary:.2f}\")\n",
    "print(f\"Bonus Rate: {bonus_rate * 100:.0f}%\")\n",
    "print(f\"Net Bonus Amount: ₹{bonus:.2f}\")\n"
   ]
  },
  {
   "cell_type": "markdown",
   "id": "7ce47462-b32c-4c81-be06-44d8e713161d",
   "metadata": {},
   "source": [
    "Q5. Accept three numbers from the user and display the second largest number?"
   ]
  },
  {
   "cell_type": "code",
   "execution_count": 1,
   "id": "2903f014-7ff7-48d0-ab84-06611c3df36f",
   "metadata": {},
   "outputs": [
    {
     "name": "stdin",
     "output_type": "stream",
     "text": [
      "enter the frist number :- 85\n",
      "enter the second number :- 96\n",
      "enter the third number :- 45\n"
     ]
    },
    {
     "name": "stdout",
     "output_type": "stream",
     "text": [
      "second largest number is  85\n"
     ]
    }
   ],
   "source": [
    "number_1 = int(input(\"enter the frist number :-\"))\n",
    "number_2 = int(input(\"enter the second number :-\"))\n",
    "number_3 = int(input(\"enter the third number :-\"))\n",
    "\n",
    "if (number_1>= number_2 and number_1 <= number_3) or (number_1 <= number_2 and number_1 >= number_3):\n",
    "    print(\"second largest number is \",number_1)\n",
    "elif (number_2 >= number_1 and number_2 <= number_3) or (number_2 <= number_1 and number_2 >= number_3):\n",
    "    print(\"second largest number is \",number_2)\n",
    "else:\n",
    "    print(\"second largest number is \",number_3)\n"
   ]
  },
  {
   "cell_type": "markdown",
   "id": "6dc445b0-a700-40eb-8690-36e976696d35",
   "metadata": {},
   "source": [
    "Q6. Accept the marked price from the user and calculate I the Net amount as (Marked Price - Discount) to pay according to following criteria:\n",
    "\n",
    "Marked Price\n",
    "\n",
    "Discount\n",
    "\n",
    ">10000  20%\n",
    "\n",
    ">7000 and <=10000  15%\n",
    "\n",
    "<=7000   10%"
   ]
  },
  {
   "cell_type": "code",
   "execution_count": 1,
   "id": "c345dd9a-7299-4bfd-8a97-eb03d9536c85",
   "metadata": {},
   "outputs": [
    {
     "name": "stdin",
     "output_type": "stream",
     "text": [
      "Enter the marked price:  25000\n"
     ]
    },
    {
     "name": "stdout",
     "output_type": "stream",
     "text": [
      "Discount: ₹5000.00\n",
      "Net amount to pay: ₹20000.00\n"
     ]
    }
   ],
   "source": [
    "marked_price = float(input(\"Enter the marked price: \"))\n",
    "\n",
    "if marked_price > 10000:\n",
    "    discount = 0.20 * marked_price\n",
    "elif marked_price > 7000:\n",
    "    discount = 0.15 * marked_price\n",
    "else:\n",
    "    discount = 0.10 * marked_price\n",
    "\n",
    "net_amount = marked_price - discount\n",
    "\n",
    "print(f\"Discount: ₹{discount:.2f}\")\n",
    "print(f\"Net amount to pay: ₹{net_amount:.2f}\")\n"
   ]
  },
  {
   "cell_type": "markdown",
   "id": "a13c6123-7872-40b6-b6c8-5af6346063fb",
   "metadata": {},
   "source": [
    "7.accept the markes of english maths and science social studies subject and display tha stream allotted\n",
    "according to following :\n",
    "all subject more then 80 markes  - science stream\n",
    "english >80 and maths ,science above 50 - commerce stream\n",
    "englis >80 and social studies >80 - humanities"
   ]
  },
  {
   "cell_type": "code",
   "execution_count": 16,
   "id": "8113e0e6-3952-4d85-8e61-52474f8b1a6c",
   "metadata": {},
   "outputs": [
    {
     "name": "stdin",
     "output_type": "stream",
     "text": [
      "enter the markes of english  96\n",
      "enter the markes of maths  56\n",
      "enter the markes of science  85\n",
      "enter the markes of social science  45\n"
     ]
    },
    {
     "name": "stdout",
     "output_type": "stream",
     "text": [
      "Commerce Stream\n"
     ]
    }
   ],
   "source": [
    "english = int(input(\"enter the markes of english \"))\n",
    "maths = int(input(\"enter the markes of maths \"))\n",
    "science = int(input(\"enter the markes of science \"))\n",
    "social_science = int(input(\"enter the markes of social science \"))\n",
    "\n",
    "if english > 80 and maths > 80 and science > 80 and social_science > 80:\n",
    "    print(\"Science Stream\")\n",
    "elif english > 80 and maths > 50 and science > 50:\n",
    "    print(\"Commerce Stream\")\n",
    "elif english > 80 and social_science > 80:\n",
    "    print(\"Humanities Stream\")\n",
    "else:\n",
    "    print(\"No stream allotted based on given criteria.\")\n"
   ]
  },
  {
   "cell_type": "markdown",
   "id": "dc5316fb-c7d8-4287-9864-65cb3a308a6d",
   "metadata": {},
   "source": [
    "8.Write a program to display \"Hello\" if a number entered by user is a multiple of five, otherwise print \"Bye\"?"
   ]
  },
  {
   "cell_type": "code",
   "execution_count": 7,
   "id": "d5ae45cf-f2c6-46c6-8b94-34683dfebf52",
   "metadata": {},
   "outputs": [
    {
     "name": "stdin",
     "output_type": "stream",
     "text": [
      "Enter a number:  24\n"
     ]
    },
    {
     "name": "stdout",
     "output_type": "stream",
     "text": [
      "Bye\n"
     ]
    }
   ],
   "source": [
    "number = int(input(\"Enter a number: \"))\n",
    "if number % 5 == 0:\n",
    "    print(\"Hello\")\n",
    "else:\n",
    "    print(\"Bye\")\n"
   ]
  },
  {
   "cell_type": "markdown",
   "id": "20a97874-869e-47ef-92e8-59066ba72926",
   "metadata": {},
   "source": [
    "Q9. Write a program to check whether the last digit of a number (entered by user) is divisible by 3 or not?"
   ]
  },
  {
   "cell_type": "code",
   "execution_count": 3,
   "id": "8da06226-0e47-4496-94cb-04633ba73923",
   "metadata": {},
   "outputs": [
    {
     "name": "stdin",
     "output_type": "stream",
     "text": [
      "enter the number :- 333\n"
     ]
    },
    {
     "name": "stdout",
     "output_type": "stream",
     "text": [
      "the last digit is  divisible by 3\n"
     ]
    }
   ],
   "source": [
    "last_digit = int(input(\"enter the number :-\"))\n",
    "if last_digit%3==0:\n",
    "    print(\"the last digit is  divisible by 3\")\n",
    "else:\n",
    "    print(\"the last digit is not divisible by 3\")"
   ]
  },
  {
   "cell_type": "markdown",
   "id": "b21efa76-86bb-472a-b12e-d1624d73603e",
   "metadata": {},
   "source": [
    "10.Program to check if the entered number is a three-digit number"
   ]
  },
  {
   "cell_type": "code",
   "execution_count": 7,
   "id": "da788802-b4b3-4e53-a92d-8f445489d40c",
   "metadata": {},
   "outputs": [
    {
     "name": "stdin",
     "output_type": "stream",
     "text": [
      "Enter a number:  500\n"
     ]
    },
    {
     "name": "stdout",
     "output_type": "stream",
     "text": [
      "The number is a three-digit number.\n"
     ]
    }
   ],
   "source": [
    "number = int(input(\"Enter a number: \"))\n",
    "if number >=100 and number<=900:\n",
    "    print(\"The number is a three-digit number.\")\n",
    "else:\n",
    "    print(\"The number is NOT a three-digit number.\")\n"
   ]
  }
 ],
 "metadata": {
  "kernelspec": {
   "display_name": "Python 3 (ipykernel)",
   "language": "python",
   "name": "python3"
  },
  "language_info": {
   "codemirror_mode": {
    "name": "ipython",
    "version": 3
   },
   "file_extension": ".py",
   "mimetype": "text/x-python",
   "name": "python",
   "nbconvert_exporter": "python",
   "pygments_lexer": "ipython3",
   "version": "3.12.7"
  }
 },
 "nbformat": 4,
 "nbformat_minor": 5
}
